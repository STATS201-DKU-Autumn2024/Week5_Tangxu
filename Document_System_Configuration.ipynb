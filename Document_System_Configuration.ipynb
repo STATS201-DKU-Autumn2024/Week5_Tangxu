{
  "nbformat": 4,
  "nbformat_minor": 0,
  "metadata": {
    "colab": {
      "provenance": []
    },
    "kernelspec": {
      "name": "python3",
      "display_name": "Python 3"
    },
    "language_info": {
      "name": "python"
    }
  },
  "cells": [
    {
      "cell_type": "markdown",
      "source": [
        "# 1. Get Basic System Information\n",
        "Google Colab runs on a Linux environment, so we can use shell commands to extract system information."
      ],
      "metadata": {
        "id": "3PI_yEBvTdWU"
      }
    },
    {
      "cell_type": "markdown",
      "source": [
        "## CPU information"
      ],
      "metadata": {
        "id": "9qnK74DPTkKv"
      }
    },
    {
      "cell_type": "code",
      "execution_count": 1,
      "metadata": {
        "colab": {
          "base_uri": "https://localhost:8080/"
        },
        "id": "jWongsxlTX7T",
        "outputId": "9cad651f-2011-4c5a-a96c-81eb39fed611"
      },
      "outputs": [
        {
          "output_type": "stream",
          "name": "stdout",
          "text": [
            "Architecture:             x86_64\n",
            "  CPU op-mode(s):         32-bit, 64-bit\n",
            "  Address sizes:          46 bits physical, 48 bits virtual\n",
            "  Byte Order:             Little Endian\n",
            "CPU(s):                   2\n",
            "  On-line CPU(s) list:    0,1\n",
            "Vendor ID:                GenuineIntel\n",
            "  Model name:             Intel(R) Xeon(R) CPU @ 2.20GHz\n",
            "    CPU family:           6\n",
            "    Model:                79\n",
            "    Thread(s) per core:   2\n",
            "    Core(s) per socket:   1\n",
            "    Socket(s):            1\n",
            "    Stepping:             0\n",
            "    BogoMIPS:             4400.29\n",
            "    Flags:                fpu vme de pse tsc msr pae mce cx8 apic sep mtrr pge mca cmov pat pse36 cl\n",
            "                          flush mmx fxsr sse sse2 ss ht syscall nx pdpe1gb rdtscp lm constant_tsc re\n",
            "                          p_good nopl xtopology nonstop_tsc cpuid tsc_known_freq pni pclmulqdq ssse3\n",
            "                           fma cx16 pcid sse4_1 sse4_2 x2apic movbe popcnt aes xsave avx f16c rdrand\n",
            "                           hypervisor lahf_lm abm 3dnowprefetch invpcid_single ssbd ibrs ibpb stibp \n",
            "                          fsgsbase tsc_adjust bmi1 hle avx2 smep bmi2 erms invpcid rtm rdseed adx sm\n",
            "                          ap xsaveopt arat md_clear arch_capabilities\n",
            "Virtualization features:  \n",
            "  Hypervisor vendor:      KVM\n",
            "  Virtualization type:    full\n",
            "Caches (sum of all):      \n",
            "  L1d:                    32 KiB (1 instance)\n",
            "  L1i:                    32 KiB (1 instance)\n",
            "  L2:                     256 KiB (1 instance)\n",
            "  L3:                     55 MiB (1 instance)\n",
            "NUMA:                     \n",
            "  NUMA node(s):           1\n",
            "  NUMA node0 CPU(s):      0,1\n",
            "Vulnerabilities:          \n",
            "  Gather data sampling:   Not affected\n",
            "  Itlb multihit:          Not affected\n",
            "  L1tf:                   Mitigation; PTE Inversion\n",
            "  Mds:                    Vulnerable; SMT Host state unknown\n",
            "  Meltdown:               Vulnerable\n",
            "  Mmio stale data:        Vulnerable\n",
            "  Reg file data sampling: Not affected\n",
            "  Retbleed:               Vulnerable\n",
            "  Spec rstack overflow:   Not affected\n",
            "  Spec store bypass:      Vulnerable\n",
            "  Spectre v1:             Vulnerable: __user pointer sanitization and usercopy barriers only; no swa\n",
            "                          pgs barriers\n",
            "  Spectre v2:             Vulnerable; IBPB: disabled; STIBP: disabled; PBRSB-eIBRS: Not affected; BH\n",
            "                          I: Vulnerable (Syscall hardening enabled)\n",
            "  Srbds:                  Not affected\n",
            "  Tsx async abort:        Vulnerable\n"
          ]
        }
      ],
      "source": [
        "!lscpu"
      ]
    },
    {
      "cell_type": "markdown",
      "source": [
        "## GPU Information\n",
        "To check if a GPU is available and get its details:"
      ],
      "metadata": {
        "id": "sAc5em3tTmgD"
      }
    },
    {
      "cell_type": "code",
      "source": [
        "import tensorflow as tf\n",
        "\n",
        "if tf.config.list_physical_devices('GPU'):\n",
        "    !nvidia-smi\n",
        "else:\n",
        "    print(\"No GPU found\")\n"
      ],
      "metadata": {
        "colab": {
          "base_uri": "https://localhost:8080/"
        },
        "id": "bYgf7f2wTqiu",
        "outputId": "72fb3225-3e51-48f7-f0a7-9285e5722131"
      },
      "execution_count": 2,
      "outputs": [
        {
          "output_type": "stream",
          "name": "stdout",
          "text": [
            "No GPU found\n"
          ]
        }
      ]
    },
    {
      "cell_type": "markdown",
      "source": [
        "## Memory Information\n",
        "To see the total and available memory:"
      ],
      "metadata": {
        "id": "dG1JNdlaTur1"
      }
    },
    {
      "cell_type": "code",
      "source": [
        "!free -h\n"
      ],
      "metadata": {
        "colab": {
          "base_uri": "https://localhost:8080/"
        },
        "id": "k0XAyYbGTxCD",
        "outputId": "1cbe43ac-a1ed-4876-bbc2-0f59f09c4c0b"
      },
      "execution_count": 3,
      "outputs": [
        {
          "output_type": "stream",
          "name": "stdout",
          "text": [
            "               total        used        free      shared  buff/cache   available\n",
            "Mem:            12Gi       903Mi       7.9Gi       1.0Mi       3.9Gi        11Gi\n",
            "Swap:             0B          0B          0B\n"
          ]
        }
      ]
    },
    {
      "cell_type": "markdown",
      "source": [
        "# 2. List of Installed Python Packages"
      ],
      "metadata": {
        "id": "6fNctdsQTy92"
      }
    },
    {
      "cell_type": "code",
      "source": [
        "!pip list #you can use pip to list all installed Python packages with versions.\n"
      ],
      "metadata": {
        "colab": {
          "base_uri": "https://localhost:8080/"
        },
        "id": "L9MG_2CIT19H",
        "outputId": "04ad35f6-9636-4649-839b-d9c8b4bf6a33"
      },
      "execution_count": 4,
      "outputs": [
        {
          "output_type": "stream",
          "name": "stdout",
          "text": [
            "Package                            Version\n",
            "---------------------------------- --------------------\n",
            "absl-py                            1.4.0\n",
            "accelerate                         0.34.2\n",
            "aiohappyeyeballs                   2.4.3\n",
            "aiohttp                            3.10.10\n",
            "aiosignal                          1.3.1\n",
            "alabaster                          0.7.16\n",
            "albucore                           0.0.16\n",
            "albumentations                     1.4.15\n",
            "altair                             4.2.2\n",
            "annotated-types                    0.7.0\n",
            "anyio                              3.7.1\n",
            "argon2-cffi                        23.1.0\n",
            "argon2-cffi-bindings               21.2.0\n",
            "array_record                       0.5.1\n",
            "arviz                              0.19.0\n",
            "astropy                            6.1.4\n",
            "astropy-iers-data                  0.2024.10.21.0.33.21\n",
            "astunparse                         1.6.3\n",
            "async-timeout                      4.0.3\n",
            "atpublic                           4.1.0\n",
            "attrs                              24.2.0\n",
            "audioread                          3.0.1\n",
            "autograd                           1.7.0\n",
            "babel                              2.16.0\n",
            "backcall                           0.2.0\n",
            "beautifulsoup4                     4.12.3\n",
            "bigframes                          1.22.0\n",
            "bigquery-magics                    0.4.0\n",
            "bleach                             6.1.0\n",
            "blinker                            1.4\n",
            "blis                               0.7.11\n",
            "blosc2                             2.0.0\n",
            "bokeh                              3.4.3\n",
            "Bottleneck                         1.4.2\n",
            "bqplot                             0.12.43\n",
            "branca                             0.8.0\n",
            "CacheControl                       0.14.0\n",
            "cachetools                         5.5.0\n",
            "catalogue                          2.0.10\n",
            "certifi                            2024.8.30\n",
            "cffi                               1.17.1\n",
            "chardet                            5.2.0\n",
            "charset-normalizer                 3.4.0\n",
            "chex                               0.1.87\n",
            "clarabel                           0.9.0\n",
            "click                              8.1.7\n",
            "cloudpathlib                       0.20.0\n",
            "cloudpickle                        3.1.0\n",
            "cmake                              3.30.5\n",
            "cmdstanpy                          1.2.4\n",
            "colorcet                           3.1.0\n",
            "colorlover                         0.3.0\n",
            "colour                             0.1.5\n",
            "community                          1.0.0b1\n",
            "confection                         0.1.5\n",
            "cons                               0.4.6\n",
            "contourpy                          1.3.0\n",
            "cryptography                       43.0.3\n",
            "cuda-python                        12.2.1\n",
            "cudf-cu12                          24.10.1\n",
            "cufflinks                          0.17.3\n",
            "cupy-cuda12x                       12.2.0\n",
            "cvxopt                             1.3.2\n",
            "cvxpy                              1.5.3\n",
            "cycler                             0.12.1\n",
            "cymem                              2.0.8\n",
            "Cython                             3.0.11\n",
            "dask                               2024.8.2\n",
            "datascience                        0.17.6\n",
            "db-dtypes                          1.3.0\n",
            "dbus-python                        1.2.18\n",
            "debugpy                            1.6.6\n",
            "decorator                          4.4.2\n",
            "defusedxml                         0.7.1\n",
            "Deprecated                         1.2.14\n",
            "diffusers                          0.30.3\n",
            "distro                             1.7.0\n",
            "dlib                               19.24.2\n",
            "dm-tree                            0.1.8\n",
            "docker-pycreds                     0.4.0\n",
            "docstring_parser                   0.16\n",
            "docutils                           0.18.1\n",
            "dopamine_rl                        4.0.9\n",
            "duckdb                             1.1.2\n",
            "earthengine-api                    1.0.0\n",
            "easydict                           1.13\n",
            "ecos                               2.0.14\n",
            "editdistance                       0.8.1\n",
            "eerepr                             0.0.4\n",
            "einops                             0.8.0\n",
            "en-core-web-sm                     3.7.1\n",
            "entrypoints                        0.4\n",
            "et-xmlfile                         1.1.0\n",
            "etils                              1.10.0\n",
            "etuples                            0.3.9\n",
            "eval_type_backport                 0.2.0\n",
            "exceptiongroup                     1.2.2\n",
            "fastai                             2.7.18\n",
            "fastcore                           1.7.19\n",
            "fastdownload                       0.0.7\n",
            "fastjsonschema                     2.20.0\n",
            "fastprogress                       1.0.3\n",
            "fastrlock                          0.8.2\n",
            "filelock                           3.16.1\n",
            "firebase-admin                     6.5.0\n",
            "Flask                              2.2.5\n",
            "flatbuffers                        24.3.25\n",
            "flax                               0.8.5\n",
            "folium                             0.17.0\n",
            "fonttools                          4.54.1\n",
            "frozendict                         2.4.6\n",
            "frozenlist                         1.4.1\n",
            "fsspec                             2024.6.1\n",
            "future                             1.0.0\n",
            "gast                               0.6.0\n",
            "gcsfs                              2024.6.1\n",
            "GDAL                               3.6.4\n",
            "gdown                              5.2.0\n",
            "geemap                             0.34.5\n",
            "gensim                             4.3.3\n",
            "geocoder                           1.38.1\n",
            "geographiclib                      2.0\n",
            "geopandas                          1.0.1\n",
            "geopy                              2.4.1\n",
            "gin-config                         0.5.0\n",
            "gitdb                              4.0.11\n",
            "GitPython                          3.1.43\n",
            "glob2                              0.7\n",
            "google                             2.0.3\n",
            "google-ai-generativelanguage       0.6.10\n",
            "google-api-core                    2.19.2\n",
            "google-api-python-client           2.137.0\n",
            "google-auth                        2.27.0\n",
            "google-auth-httplib2               0.2.0\n",
            "google-auth-oauthlib               1.2.1\n",
            "google-cloud-aiplatform            1.70.0\n",
            "google-cloud-bigquery              3.25.0\n",
            "google-cloud-bigquery-connection   1.15.5\n",
            "google-cloud-bigquery-storage      2.27.0\n",
            "google-cloud-bigtable              2.26.0\n",
            "google-cloud-core                  2.4.1\n",
            "google-cloud-datastore             2.19.0\n",
            "google-cloud-firestore             2.16.1\n",
            "google-cloud-functions             1.16.5\n",
            "google-cloud-iam                   2.15.2\n",
            "google-cloud-language              2.13.4\n",
            "google-cloud-pubsub                2.25.0\n",
            "google-cloud-resource-manager      1.12.5\n",
            "google-cloud-storage               2.8.0\n",
            "google-cloud-translate             3.15.5\n",
            "google-colab                       1.0.0\n",
            "google-crc32c                      1.6.0\n",
            "google-generativeai                0.8.3\n",
            "google-pasta                       0.2.0\n",
            "google-resumable-media             2.7.2\n",
            "googleapis-common-protos           1.65.0\n",
            "googledrivedownloader              0.4\n",
            "graphviz                           0.20.3\n",
            "greenlet                           3.1.1\n",
            "grpc-google-iam-v1                 0.13.1\n",
            "grpcio                             1.64.1\n",
            "grpcio-status                      1.48.2\n",
            "gspread                            6.0.2\n",
            "gspread-dataframe                  3.3.1\n",
            "gym                                0.25.2\n",
            "gym-notices                        0.0.8\n",
            "h5netcdf                           1.4.0\n",
            "h5py                               3.11.0\n",
            "holidays                           0.59\n",
            "holoviews                          1.19.1\n",
            "html5lib                           1.1\n",
            "httpimport                         1.4.0\n",
            "httplib2                           0.22.0\n",
            "huggingface-hub                    0.24.7\n",
            "humanize                           4.10.0\n",
            "hyperopt                           0.2.7\n",
            "ibis-framework                     9.2.0\n",
            "idna                               3.10\n",
            "imageio                            2.35.1\n",
            "imageio-ffmpeg                     0.5.1\n",
            "imagesize                          1.4.1\n",
            "imbalanced-learn                   0.12.4\n",
            "imgaug                             0.4.0\n",
            "immutabledict                      4.2.0\n",
            "importlib_metadata                 8.5.0\n",
            "importlib_resources                6.4.5\n",
            "imutils                            0.5.4\n",
            "inflect                            7.4.0\n",
            "iniconfig                          2.0.0\n",
            "intel-cmplr-lib-ur                 2024.2.1\n",
            "intel-openmp                       2024.2.1\n",
            "ipyevents                          2.0.2\n",
            "ipyfilechooser                     0.6.0\n",
            "ipykernel                          5.5.6\n",
            "ipyleaflet                         0.19.2\n",
            "ipyparallel                        8.8.0\n",
            "ipython                            7.34.0\n",
            "ipython-genutils                   0.2.0\n",
            "ipython-sql                        0.5.0\n",
            "ipytree                            0.2.2\n",
            "ipywidgets                         7.7.1\n",
            "itsdangerous                       2.2.0\n",
            "jax                                0.4.33\n",
            "jax-cuda12-pjrt                    0.4.33\n",
            "jax-cuda12-plugin                  0.4.33\n",
            "jaxlib                             0.4.33\n",
            "jeepney                            0.7.1\n",
            "jellyfish                          1.1.0\n",
            "jieba                              0.42.1\n",
            "Jinja2                             3.1.4\n",
            "joblib                             1.4.2\n",
            "jsonpickle                         3.3.0\n",
            "jsonschema                         4.23.0\n",
            "jsonschema-specifications          2024.10.1\n",
            "jupyter-client                     6.1.12\n",
            "jupyter-console                    6.1.0\n",
            "jupyter_core                       5.7.2\n",
            "jupyter-leaflet                    0.19.2\n",
            "jupyter-server                     1.24.0\n",
            "jupyterlab_pygments                0.3.0\n",
            "jupyterlab_widgets                 3.0.13\n",
            "kaggle                             1.6.17\n",
            "kagglehub                          0.3.3\n",
            "keras                              3.4.1\n",
            "keyring                            23.5.0\n",
            "kiwisolver                         1.4.7\n",
            "langcodes                          3.4.1\n",
            "language_data                      1.2.0\n",
            "launchpadlib                       1.10.16\n",
            "lazr.restfulclient                 0.14.4\n",
            "lazr.uri                           1.0.6\n",
            "lazy_loader                        0.4\n",
            "libclang                           18.1.1\n",
            "libcudf-cu12                       24.10.1\n",
            "librosa                            0.10.2.post1\n",
            "lightgbm                           4.5.0\n",
            "linkify-it-py                      2.0.3\n",
            "llvmlite                           0.43.0\n",
            "locket                             1.0.0\n",
            "logical-unification                0.4.6\n",
            "lxml                               4.9.4\n",
            "marisa-trie                        1.2.1\n",
            "Markdown                           3.7\n",
            "markdown-it-py                     3.0.0\n",
            "MarkupSafe                         3.0.2\n",
            "matplotlib                         3.7.1\n",
            "matplotlib-inline                  0.1.7\n",
            "matplotlib-venn                    1.1.1\n",
            "mdit-py-plugins                    0.4.2\n",
            "mdurl                              0.1.2\n",
            "miniKanren                         1.0.3\n",
            "missingno                          0.5.2\n",
            "mistune                            0.8.4\n",
            "mizani                             0.11.4\n",
            "mkl                                2024.2.2\n",
            "ml-dtypes                          0.4.1\n",
            "mlxtend                            0.23.1\n",
            "more-itertools                     10.5.0\n",
            "moviepy                            1.0.3\n",
            "mpmath                             1.3.0\n",
            "msgpack                            1.1.0\n",
            "multidict                          6.1.0\n",
            "multipledispatch                   1.0.0\n",
            "multitasking                       0.0.11\n",
            "murmurhash                         1.0.10\n",
            "music21                            9.1.0\n",
            "namex                              0.0.8\n",
            "natsort                            8.4.0\n",
            "nbclassic                          1.1.0\n",
            "nbclient                           0.10.0\n",
            "nbconvert                          6.5.4\n",
            "nbformat                           5.10.4\n",
            "nest-asyncio                       1.6.0\n",
            "networkx                           3.4.2\n",
            "nibabel                            5.2.1\n",
            "nltk                               3.8.1\n",
            "notebook                           6.5.5\n",
            "notebook_shim                      0.2.4\n",
            "numba                              0.60.0\n",
            "numexpr                            2.10.1\n",
            "numpy                              1.26.4\n",
            "nvidia-cublas-cu12                 12.6.3.3\n",
            "nvidia-cuda-cupti-cu12             12.6.80\n",
            "nvidia-cuda-nvcc-cu12              12.6.77\n",
            "nvidia-cuda-runtime-cu12           12.6.77\n",
            "nvidia-cudnn-cu12                  9.5.0.50\n",
            "nvidia-cufft-cu12                  11.3.0.4\n",
            "nvidia-curand-cu12                 10.3.7.77\n",
            "nvidia-cusolver-cu12               11.7.1.2\n",
            "nvidia-cusparse-cu12               12.5.4.2\n",
            "nvidia-nccl-cu12                   2.23.4\n",
            "nvidia-nvjitlink-cu12              12.6.77\n",
            "nvtx                               0.2.10\n",
            "nx-cugraph-cu12                    24.10.0\n",
            "oauth2client                       4.1.3\n",
            "oauthlib                           3.2.2\n",
            "opencv-contrib-python              4.10.0.84\n",
            "opencv-python                      4.10.0.84\n",
            "opencv-python-headless             4.10.0.84\n",
            "openpyxl                           3.1.5\n",
            "opentelemetry-api                  1.16.0\n",
            "opentelemetry-sdk                  1.16.0\n",
            "opentelemetry-semantic-conventions 0.37b0\n",
            "opt_einsum                         3.4.0\n",
            "optax                              0.2.3\n",
            "optree                             0.13.0\n",
            "orbax-checkpoint                   0.6.4\n",
            "osqp                               0.6.7.post3\n",
            "packaging                          24.1\n",
            "pandas                             2.2.2\n",
            "pandas-datareader                  0.10.0\n",
            "pandas-gbq                         0.23.2\n",
            "pandas-stubs                       2.2.2.240909\n",
            "pandocfilters                      1.5.1\n",
            "panel                              1.4.5\n",
            "param                              2.1.1\n",
            "parso                              0.8.4\n",
            "parsy                              2.1\n",
            "partd                              1.4.2\n",
            "pathlib                            1.0.1\n",
            "patsy                              0.5.6\n",
            "peewee                             3.17.7\n",
            "pexpect                            4.9.0\n",
            "pickleshare                        0.7.5\n",
            "pillow                             10.4.0\n",
            "pip                                24.1.2\n",
            "platformdirs                       4.3.6\n",
            "plotly                             5.24.1\n",
            "plotnine                           0.13.6\n",
            "pluggy                             1.5.0\n",
            "polars                             1.7.1\n",
            "pooch                              1.8.2\n",
            "portpicker                         1.5.2\n",
            "preshed                            3.0.9\n",
            "prettytable                        3.11.0\n",
            "proglog                            0.1.10\n",
            "progressbar2                       4.5.0\n",
            "prometheus_client                  0.21.0\n",
            "promise                            2.3\n",
            "prompt_toolkit                     3.0.48\n",
            "propcache                          0.2.0\n",
            "prophet                            1.1.6\n",
            "proto-plus                         1.24.0\n",
            "protobuf                           3.20.3\n",
            "psutil                             5.9.5\n",
            "psycopg2                           2.9.10\n",
            "ptyprocess                         0.7.0\n",
            "py-cpuinfo                         9.0.0\n",
            "py4j                               0.10.9.7\n",
            "pyarrow                            16.1.0\n",
            "pyarrow-hotfix                     0.6\n",
            "pyasn1                             0.6.1\n",
            "pyasn1_modules                     0.4.1\n",
            "pycocotools                        2.0.8\n",
            "pycparser                          2.22\n",
            "pydantic                           2.9.2\n",
            "pydantic_core                      2.23.4\n",
            "pydata-google-auth                 1.8.2\n",
            "pydot                              3.0.2\n",
            "pydotplus                          2.0.2\n",
            "PyDrive                            1.3.1\n",
            "PyDrive2                           1.20.0\n",
            "pyerfa                             2.0.1.4\n",
            "pygame                             2.6.1\n",
            "pygit2                             1.15.1\n",
            "Pygments                           2.18.0\n",
            "PyGObject                          3.42.1\n",
            "PyJWT                              2.9.0\n",
            "pylibcudf-cu12                     24.10.1\n",
            "pylibcugraph-cu12                  24.10.0\n",
            "pylibraft-cu12                     24.10.0\n",
            "pymc                               5.16.2\n",
            "pymystem3                          0.2.0\n",
            "pynvjitlink-cu12                   0.3.0\n",
            "pyogrio                            0.10.0\n",
            "PyOpenGL                           3.1.7\n",
            "pyOpenSSL                          24.2.1\n",
            "pyparsing                          3.2.0\n",
            "pyperclip                          1.9.0\n",
            "pyproj                             3.7.0\n",
            "pyshp                              2.3.1\n",
            "PySocks                            1.7.1\n",
            "pyspark                            3.5.3\n",
            "pytensor                           2.25.5\n",
            "pytest                             7.4.4\n",
            "python-apt                         0.0.0\n",
            "python-box                         7.2.0\n",
            "python-dateutil                    2.8.2\n",
            "python-louvain                     0.16\n",
            "python-slugify                     8.0.4\n",
            "python-utils                       3.9.0\n",
            "pytz                               2024.2\n",
            "pyviz_comms                        3.0.3\n",
            "PyYAML                             6.0.2\n",
            "pyzmq                              24.0.1\n",
            "qdldl                              0.1.7.post4\n",
            "ratelim                            0.1.6\n",
            "referencing                        0.35.1\n",
            "regex                              2024.9.11\n",
            "requests                           2.32.3\n",
            "requests-oauthlib                  1.3.1\n",
            "requirements-parser                0.9.0\n",
            "rich                               13.9.3\n",
            "rmm-cu12                           24.10.0\n",
            "rpds-py                            0.20.0\n",
            "rpy2                               3.4.2\n",
            "rsa                                4.9\n",
            "safetensors                        0.4.5\n",
            "scikit-image                       0.24.0\n",
            "scikit-learn                       1.5.2\n",
            "scipy                              1.13.1\n",
            "scooby                             0.10.0\n",
            "scs                                3.2.7\n",
            "seaborn                            0.13.2\n",
            "SecretStorage                      3.3.1\n",
            "Send2Trash                         1.8.3\n",
            "sentencepiece                      0.2.0\n",
            "sentry-sdk                         2.17.0\n",
            "setproctitle                       1.3.3\n",
            "setuptools                         75.1.0\n",
            "shap                               0.46.0\n",
            "shapely                            2.0.6\n",
            "shellingham                        1.5.4\n",
            "simple-parsing                     0.1.6\n",
            "six                                1.16.0\n",
            "sklearn-pandas                     2.2.0\n",
            "slicer                             0.0.8\n",
            "smart-open                         7.0.5\n",
            "smmap                              5.0.1\n",
            "sniffio                            1.3.1\n",
            "snowballstemmer                    2.2.0\n",
            "soundfile                          0.12.1\n",
            "soupsieve                          2.6\n",
            "soxr                               0.5.0.post1\n",
            "spacy                              3.7.5\n",
            "spacy-legacy                       3.0.12\n",
            "spacy-loggers                      1.0.5\n",
            "Sphinx                             5.0.2\n",
            "sphinxcontrib-applehelp            2.0.0\n",
            "sphinxcontrib-devhelp              2.0.0\n",
            "sphinxcontrib-htmlhelp             2.1.0\n",
            "sphinxcontrib-jsmath               1.0.1\n",
            "sphinxcontrib-qthelp               2.0.0\n",
            "sphinxcontrib-serializinghtml      2.0.0\n",
            "SQLAlchemy                         2.0.36\n",
            "sqlglot                            25.1.0\n",
            "sqlparse                           0.5.1\n",
            "srsly                              2.4.8\n",
            "stanio                             0.5.1\n",
            "statsmodels                        0.14.4\n",
            "StrEnum                            0.4.15\n",
            "sympy                              1.13.1\n",
            "tables                             3.8.0\n",
            "tabulate                           0.9.0\n",
            "tbb                                2021.13.1\n",
            "tenacity                           9.0.0\n",
            "tensorboard                        2.17.0\n",
            "tensorboard-data-server            0.7.2\n",
            "tensorflow                         2.17.0\n",
            "tensorflow-datasets                4.9.6\n",
            "tensorflow-hub                     0.16.1\n",
            "tensorflow-io-gcs-filesystem       0.37.1\n",
            "tensorflow-metadata                1.16.1\n",
            "tensorflow-probability             0.24.0\n",
            "tensorstore                        0.1.66\n",
            "termcolor                          2.5.0\n",
            "terminado                          0.18.1\n",
            "text-unidecode                     1.3\n",
            "textblob                           0.17.1\n",
            "tf_keras                           2.17.0\n",
            "tf-slim                            1.1.0\n",
            "thinc                              8.2.5\n",
            "threadpoolctl                      3.5.0\n",
            "tifffile                           2024.9.20\n",
            "timm                               1.0.11\n",
            "tinycss2                           1.3.0\n",
            "tokenizers                         0.19.1\n",
            "toml                               0.10.2\n",
            "tomli                              2.0.2\n",
            "toolz                              0.12.1\n",
            "torch                              2.5.0+cu121\n",
            "torchaudio                         2.5.0+cu121\n",
            "torchsummary                       1.5.1\n",
            "torchvision                        0.20.0+cu121\n",
            "tornado                            6.3.3\n",
            "tqdm                               4.66.5\n",
            "traitlets                          5.7.1\n",
            "traittypes                         0.2.1\n",
            "transformers                       4.44.2\n",
            "tweepy                             4.14.0\n",
            "typeguard                          4.3.0\n",
            "typer                              0.12.5\n",
            "types-pytz                         2024.2.0.20241003\n",
            "types-setuptools                   75.2.0.20241025\n",
            "typing_extensions                  4.12.2\n",
            "tzdata                             2024.2\n",
            "tzlocal                            5.2\n",
            "uc-micro-py                        1.0.3\n",
            "uritemplate                        4.1.1\n",
            "urllib3                            2.2.3\n",
            "vega-datasets                      0.9.0\n",
            "wadllib                            1.3.6\n",
            "wandb                              0.18.5\n",
            "wasabi                             1.1.3\n",
            "wcwidth                            0.2.13\n",
            "weasel                             0.4.1\n",
            "webcolors                          24.8.0\n",
            "webencodings                       0.5.1\n",
            "websocket-client                   1.8.0\n",
            "Werkzeug                           3.0.4\n",
            "wheel                              0.44.0\n",
            "widgetsnbextension                 3.6.10\n",
            "wordcloud                          1.9.3\n",
            "wrapt                              1.16.0\n",
            "xarray                             2024.9.0\n",
            "xarray-einstats                    0.8.0\n",
            "xgboost                            2.1.1\n",
            "xlrd                               2.0.1\n",
            "xyzservices                        2024.9.0\n",
            "yarl                               1.16.0\n",
            "yellowbrick                        1.5\n",
            "yfinance                           0.2.46\n",
            "zipp                               3.20.2\n"
          ]
        }
      ]
    },
    {
      "cell_type": "markdown",
      "source": [
        "Or save it to a text file for documentation:"
      ],
      "metadata": {
        "id": "seVx2YY-T8oE"
      }
    },
    {
      "cell_type": "code",
      "source": [
        "!pip list > installed_packages.txt\n"
      ],
      "metadata": {
        "id": "HYUpDcEST8b1"
      },
      "execution_count": 5,
      "outputs": []
    },
    {
      "cell_type": "markdown",
      "source": [
        "# 3. Check Python Version"
      ],
      "metadata": {
        "id": "nJSdG_8sUCr2"
      }
    },
    {
      "cell_type": "markdown",
      "source": [
        "Google Colab usually runs Python 3, but it’s good to confirm the version."
      ],
      "metadata": {
        "id": "VJZ34it5UGxx"
      }
    },
    {
      "cell_type": "code",
      "source": [
        "!python --version"
      ],
      "metadata": {
        "colab": {
          "base_uri": "https://localhost:8080/"
        },
        "id": "rsoU7AAGUD1k",
        "outputId": "f9cbf3a6-2e19-4c1d-a5f6-253c3f63e234"
      },
      "execution_count": 6,
      "outputs": [
        {
          "output_type": "stream",
          "name": "stdout",
          "text": [
            "Python 3.10.12\n"
          ]
        }
      ]
    },
    {
      "cell_type": "markdown",
      "source": [
        "# 4. Check Available Disk Space\n",
        "To see how much disk space is available:"
      ],
      "metadata": {
        "id": "Ae5nsStNULpK"
      }
    },
    {
      "cell_type": "code",
      "source": [
        "!df -h\n"
      ],
      "metadata": {
        "colab": {
          "base_uri": "https://localhost:8080/"
        },
        "id": "Vhp8-lfpUMvD",
        "outputId": "91921a9b-25a5-46fa-a2fc-f2f8a1079089"
      },
      "execution_count": 7,
      "outputs": [
        {
          "output_type": "stream",
          "name": "stdout",
          "text": [
            "Filesystem      Size  Used Avail Use% Mounted on\n",
            "overlay         108G   38G   71G  35% /\n",
            "tmpfs            64M     0   64M   0% /dev\n",
            "shm             5.8G     0  5.8G   0% /dev/shm\n",
            "/dev/root       2.0G  1.2G  820M  59% /usr/sbin/docker-init\n",
            "tmpfs           6.4G  128K  6.4G   1% /var/colab\n",
            "/dev/sda1        77G   57G   20G  74% /etc/hosts\n",
            "tmpfs           6.4G     0  6.4G   0% /proc/acpi\n",
            "tmpfs           6.4G     0  6.4G   0% /proc/scsi\n",
            "tmpfs           6.4G     0  6.4G   0% /sys/firmware\n"
          ]
        }
      ]
    },
    {
      "cell_type": "markdown",
      "source": [
        "# 5. Get Environment Variables\n",
        "Environment variables give insight into system paths, user settings, and specific Colab configurations."
      ],
      "metadata": {
        "id": "9vc0WFcwUTva"
      }
    },
    {
      "cell_type": "code",
      "source": [
        "import os\n",
        "\n",
        "for key, value in os.environ.items():\n",
        "    print(f\"{key}: {value}\")\n"
      ],
      "metadata": {
        "colab": {
          "base_uri": "https://localhost:8080/"
        },
        "id": "ouT31PklUXJl",
        "outputId": "e1921c0c-3950-432c-fd47-33f5eb0cbf18"
      },
      "execution_count": 8,
      "outputs": [
        {
          "output_type": "stream",
          "name": "stdout",
          "text": [
            "SHELL: /bin/bash\n",
            "NV_LIBCUBLAS_VERSION: 12.2.5.6-1\n",
            "NVIDIA_VISIBLE_DEVICES: all\n",
            "COLAB_JUPYTER_TRANSPORT: ipc\n",
            "NV_NVML_DEV_VERSION: 12.2.140-1\n",
            "NV_CUDNN_PACKAGE_NAME: libcudnn8\n",
            "CGROUP_MEMORY_EVENTS: /sys/fs/cgroup/memory.events /var/colab/cgroup/jupyter-children/memory.events\n",
            "NV_LIBNCCL_DEV_PACKAGE: libnccl-dev=2.19.3-1+cuda12.2\n",
            "NV_LIBNCCL_DEV_PACKAGE_VERSION: 2.19.3-1\n",
            "VM_GCE_METADATA_HOST: 169.254.169.253\n",
            "HOSTNAME: 77e8cc45d2d4\n",
            "LANGUAGE: en_US\n",
            "TBE_RUNTIME_ADDR: 172.28.0.1:8011\n",
            "COLAB_TPU_1VM: \n",
            "GCE_METADATA_TIMEOUT: 3\n",
            "NVIDIA_REQUIRE_CUDA: cuda>=12.2 brand=tesla,driver>=470,driver<471 brand=unknown,driver>=470,driver<471 brand=nvidia,driver>=470,driver<471 brand=nvidiartx,driver>=470,driver<471 brand=geforce,driver>=470,driver<471 brand=geforcertx,driver>=470,driver<471 brand=quadro,driver>=470,driver<471 brand=quadrortx,driver>=470,driver<471 brand=titan,driver>=470,driver<471 brand=titanrtx,driver>=470,driver<471 brand=tesla,driver>=525,driver<526 brand=unknown,driver>=525,driver<526 brand=nvidia,driver>=525,driver<526 brand=nvidiartx,driver>=525,driver<526 brand=geforce,driver>=525,driver<526 brand=geforcertx,driver>=525,driver<526 brand=quadro,driver>=525,driver<526 brand=quadrortx,driver>=525,driver<526 brand=titan,driver>=525,driver<526 brand=titanrtx,driver>=525,driver<526\n",
            "NV_LIBCUBLAS_DEV_PACKAGE: libcublas-dev-12-2=12.2.5.6-1\n",
            "NV_NVTX_VERSION: 12.2.140-1\n",
            "COLAB_JUPYTER_IP: 172.28.0.12\n",
            "NV_CUDA_CUDART_DEV_VERSION: 12.2.140-1\n",
            "NV_LIBCUSPARSE_VERSION: 12.1.2.141-1\n",
            "COLAB_LANGUAGE_SERVER_PROXY_ROOT_URL: http://172.28.0.1:8013/\n",
            "NV_LIBNPP_VERSION: 12.2.1.4-1\n",
            "NCCL_VERSION: 2.19.3-1\n",
            "KMP_LISTEN_PORT: 6000\n",
            "TF_FORCE_GPU_ALLOW_GROWTH: true\n",
            "ENV: /root/.bashrc\n",
            "PWD: /\n",
            "TBE_EPHEM_CREDS_ADDR: 172.28.0.1:8009\n",
            "COLAB_LANGUAGE_SERVER_PROXY_REQUEST_TIMEOUT: 30s\n",
            "TBE_CREDS_ADDR: 172.28.0.1:8008\n",
            "NV_CUDNN_PACKAGE: libcudnn8=8.9.6.50-1+cuda12.2\n",
            "NVIDIA_DRIVER_CAPABILITIES: compute,utility\n",
            "COLAB_JUPYTER_TOKEN: \n",
            "LAST_FORCED_REBUILD: 20241018\n",
            "NV_NVPROF_DEV_PACKAGE: cuda-nvprof-12-2=12.2.142-1\n",
            "NV_LIBNPP_PACKAGE: libnpp-12-2=12.2.1.4-1\n",
            "NV_LIBNCCL_DEV_PACKAGE_NAME: libnccl-dev\n",
            "TCLLIBPATH: /usr/share/tcltk/tcllib1.20\n",
            "NV_LIBCUBLAS_DEV_VERSION: 12.2.5.6-1\n",
            "NVIDIA_PRODUCT_NAME: CUDA\n",
            "COLAB_KERNEL_MANAGER_PROXY_HOST: 172.28.0.12\n",
            "NV_LIBCUBLAS_DEV_PACKAGE_NAME: libcublas-dev-12-2\n",
            "NV_CUDA_CUDART_VERSION: 12.2.140-1\n",
            "COLAB_WARMUP_DEFAULTS: 1\n",
            "HOME: /root\n",
            "LANG: en_US.UTF-8\n",
            "COLUMNS: 100\n",
            "CUDA_VERSION: 12.2.2\n",
            "CLOUDSDK_CONFIG: /content/.config\n",
            "NV_LIBCUBLAS_PACKAGE: libcublas-12-2=12.2.5.6-1\n",
            "NV_CUDA_NSIGHT_COMPUTE_DEV_PACKAGE: cuda-nsight-compute-12-2=12.2.2-1\n",
            "COLAB_RELEASE_TAG: release-colab_20241025-060057_RC00\n",
            "KMP_TARGET_PORT: 9000\n",
            "KMP_EXTRA_ARGS: --logtostderr --listen_host=172.28.0.12 --target_host=172.28.0.12 --tunnel_background_save_url=https://colab.research.google.com/tun/m/cc48301118ce562b961b3c22d803539adc1e0c19/m-s-2guosvp6f4yjk --tunnel_background_save_delay=10s --tunnel_periodic_background_save_frequency=30m0s --enable_output_coalescing=true --output_coalescing_required=true\n",
            "NV_LIBNPP_DEV_PACKAGE: libnpp-dev-12-2=12.2.1.4-1\n",
            "COLAB_LANGUAGE_SERVER_PROXY_LSP_DIRS: /datalab/web/pyright/typeshed-fallback/stdlib,/usr/local/lib/python3.10/dist-packages\n",
            "NV_LIBCUBLAS_PACKAGE_NAME: libcublas-12-2\n",
            "COLAB_KERNEL_MANAGER_PROXY_PORT: 6000\n",
            "CLOUDSDK_PYTHON: python3\n",
            "NV_LIBNPP_DEV_VERSION: 12.2.1.4-1\n",
            "NO_GCE_CHECK: False\n",
            "PYTHONPATH: /env/python\n",
            "NV_LIBCUSPARSE_DEV_VERSION: 12.1.2.141-1\n",
            "LIBRARY_PATH: /usr/local/cuda/lib64/stubs\n",
            "NV_CUDNN_VERSION: 8.9.6.50\n",
            "SHLVL: 0\n",
            "NV_CUDA_LIB_VERSION: 12.2.2-1\n",
            "COLAB_LANGUAGE_SERVER_PROXY: /usr/colab/bin/language_service\n",
            "NVARCH: x86_64\n",
            "NV_CUDNN_PACKAGE_DEV: libcudnn8-dev=8.9.6.50-1+cuda12.2\n",
            "NV_CUDA_COMPAT_PACKAGE: cuda-compat-12-2\n",
            "NV_LIBNCCL_PACKAGE: libnccl2=2.19.3-1+cuda12.2\n",
            "LD_LIBRARY_PATH: /usr/local/nvidia/lib:/usr/local/nvidia/lib64\n",
            "COLAB_GPU: \n",
            "NV_CUDA_NSIGHT_COMPUTE_VERSION: 12.2.2-1\n",
            "GCS_READ_CACHE_BLOCK_SIZE_MB: 16\n",
            "NV_NVPROF_VERSION: 12.2.142-1\n",
            "LC_ALL: en_US.UTF-8\n",
            "COLAB_FILE_HANDLER_ADDR: localhost:3453\n",
            "PATH: /opt/bin:/usr/local/nvidia/bin:/usr/local/cuda/bin:/usr/local/sbin:/usr/local/bin:/usr/sbin:/usr/bin:/sbin:/bin:/tools/node/bin:/tools/google-cloud-sdk/bin\n",
            "NV_LIBNCCL_PACKAGE_NAME: libnccl2\n",
            "COLAB_DEBUG_ADAPTER_MUX_PATH: /usr/local/bin/dap_multiplexer\n",
            "NV_LIBNCCL_PACKAGE_VERSION: 2.19.3-1\n",
            "PYTHONWARNINGS: ignore:::pip._internal.cli.base_command\n",
            "DEBIAN_FRONTEND: noninteractive\n",
            "COLAB_BACKEND_VERSION: next\n",
            "OLDPWD: /\n",
            "JPY_PARENT_PID: 90\n",
            "TERM: xterm-color\n",
            "CLICOLOR: 1\n",
            "PAGER: cat\n",
            "GIT_PAGER: cat\n",
            "MPLBACKEND: module://ipykernel.pylab.backend_inline\n",
            "ENABLE_DIRECTORYPREFETCHER: 1\n",
            "USE_AUTH_EPHEM: 1\n",
            "PYDEVD_USE_FRAME_EVAL: NO\n",
            "TF2_BEHAVIOR: 1\n",
            "TPU_ML_PLATFORM: Tensorflow\n",
            "TPU_ML_PLATFORM_VERSION: 2.17.0\n",
            "TF_CPP_MIN_LOG_LEVEL: 1\n"
          ]
        }
      ]
    },
    {
      "cell_type": "markdown",
      "source": [
        "# 6. Document Google Colab-Specific Resources\n",
        "Google Colab provides access to a TPU (Tensor Processing Unit) as well as a GPU (depending on the runtime configuration).\n",
        "\n",
        "Check TPU Availability"
      ],
      "metadata": {
        "id": "I2GCSNypUdxl"
      }
    },
    {
      "cell_type": "code",
      "source": [
        "try:\n",
        "    import torch_xla\n",
        "    import torch_xla.core.xla_model as xm\n",
        "    print(\"TPU is available\")\n",
        "except ImportError:\n",
        "    print(\"TPU is not available\")\n"
      ],
      "metadata": {
        "colab": {
          "base_uri": "https://localhost:8080/"
        },
        "id": "CdjFfTtzUav1",
        "outputId": "d1008e39-6f6d-4571-975b-5b900b4e6a36"
      },
      "execution_count": 9,
      "outputs": [
        {
          "output_type": "stream",
          "name": "stdout",
          "text": [
            "TPU is not available\n"
          ]
        }
      ]
    },
    {
      "cell_type": "markdown",
      "source": [
        "Check GPU Availability with TensorFlow\n",
        "You can also verify GPU availability using TensorFlow:"
      ],
      "metadata": {
        "id": "y1H35HAMUj9d"
      }
    },
    {
      "cell_type": "code",
      "source": [
        "import tensorflow as tf\n",
        "\n",
        "if tf.config.list_physical_devices('GPU'):\n",
        "    print(\"GPU is available\")\n",
        "else:\n",
        "    print(\"GPU is not available\")\n"
      ],
      "metadata": {
        "colab": {
          "base_uri": "https://localhost:8080/"
        },
        "id": "_r3NV0ETUknQ",
        "outputId": "b72244b5-42bd-478c-de73-6907c27f7bed"
      },
      "execution_count": 10,
      "outputs": [
        {
          "output_type": "stream",
          "name": "stdout",
          "text": [
            "GPU is not available\n"
          ]
        }
      ]
    },
    {
      "cell_type": "markdown",
      "source": [
        "# 7. Summarize Everything in a Report\n",
        "To put everything together and save the output to a file, you can use Python's subprocess module to run these shell commands and capture their output.\n",
        "\n",
        "Here’s a Python script to automate the documentation:"
      ],
      "metadata": {
        "id": "fKmVmQyFUmn_"
      }
    },
    {
      "cell_type": "code",
      "source": [
        "import subprocess\n",
        "\n",
        "def run_command(command):\n",
        "    result = subprocess.run(command, shell=True, capture_output=True, text=True)\n",
        "    return result.stdout\n",
        "\n",
        "# Gather system information\n",
        "report = \"### System Configuration Report\\n\\n\"\n",
        "report += \"**CPU Information:**\\n\" + run_command(\"lscpu\") + \"\\n\"\n",
        "report += \"**GPU Information:**\\n\" + (run_command(\"nvidia-smi\") if tf.config.list_physical_devices('GPU') else \"No GPU found\") + \"\\n\"\n",
        "report += \"**Memory Information:**\\n\" + run_command(\"free -h\") + \"\\n\"\n",
        "report += \"**Disk Space:**\\n\" + run_command(\"df -h\") + \"\\n\"\n",
        "report += \"**Python Version:**\\n\" + run_command(\"python --version\") + \"\\n\"\n",
        "report += \"**Installed Packages:**\\n\" + run_command(\"pip list\") + \"\\n\"\n",
        "\n",
        "# Save to a text file\n",
        "with open(\"system_configuration_report.txt\", \"w\") as file:\n",
        "    file.write(report)\n",
        "\n",
        "print(\"System configuration report saved to 'system_configuration_report.txt'\")\n"
      ],
      "metadata": {
        "colab": {
          "base_uri": "https://localhost:8080/"
        },
        "id": "gGavN5PfUqng",
        "outputId": "ba70f7c2-c8f4-4892-bd59-cd37101485fa"
      },
      "execution_count": 11,
      "outputs": [
        {
          "output_type": "stream",
          "name": "stdout",
          "text": [
            "System configuration report saved to 'system_configuration_report.txt'\n"
          ]
        }
      ]
    },
    {
      "cell_type": "markdown",
      "source": [
        "# 8. Download the Report\n",
        "After running the above code, you can download the report file system_configuration_report.txt to your local machine."
      ],
      "metadata": {
        "id": "RFEKgmlTUsIh"
      }
    },
    {
      "cell_type": "code",
      "source": [
        "from google.colab import files\n",
        "\n",
        "files.download(\"system_configuration_report.txt\")\n"
      ],
      "metadata": {
        "colab": {
          "base_uri": "https://localhost:8080/",
          "height": 17
        },
        "id": "pAOd2JWbUuo4",
        "outputId": "26d24057-302d-4e08-ac82-071530b294f7"
      },
      "execution_count": 12,
      "outputs": [
        {
          "output_type": "display_data",
          "data": {
            "text/plain": [
              "<IPython.core.display.Javascript object>"
            ],
            "application/javascript": [
              "\n",
              "    async function download(id, filename, size) {\n",
              "      if (!google.colab.kernel.accessAllowed) {\n",
              "        return;\n",
              "      }\n",
              "      const div = document.createElement('div');\n",
              "      const label = document.createElement('label');\n",
              "      label.textContent = `Downloading \"${filename}\": `;\n",
              "      div.appendChild(label);\n",
              "      const progress = document.createElement('progress');\n",
              "      progress.max = size;\n",
              "      div.appendChild(progress);\n",
              "      document.body.appendChild(div);\n",
              "\n",
              "      const buffers = [];\n",
              "      let downloaded = 0;\n",
              "\n",
              "      const channel = await google.colab.kernel.comms.open(id);\n",
              "      // Send a message to notify the kernel that we're ready.\n",
              "      channel.send({})\n",
              "\n",
              "      for await (const message of channel.messages) {\n",
              "        // Send a message to notify the kernel that we're ready.\n",
              "        channel.send({})\n",
              "        if (message.buffers) {\n",
              "          for (const buffer of message.buffers) {\n",
              "            buffers.push(buffer);\n",
              "            downloaded += buffer.byteLength;\n",
              "            progress.value = downloaded;\n",
              "          }\n",
              "        }\n",
              "      }\n",
              "      const blob = new Blob(buffers, {type: 'application/binary'});\n",
              "      const a = document.createElement('a');\n",
              "      a.href = window.URL.createObjectURL(blob);\n",
              "      a.download = filename;\n",
              "      div.appendChild(a);\n",
              "      a.click();\n",
              "      div.remove();\n",
              "    }\n",
              "  "
            ]
          },
          "metadata": {}
        },
        {
          "output_type": "display_data",
          "data": {
            "text/plain": [
              "<IPython.core.display.Javascript object>"
            ],
            "application/javascript": [
              "download(\"download_61124872-96ad-47b8-b266-473bb264acaf\", \"system_configuration_report.txt\", 25323)"
            ]
          },
          "metadata": {}
        }
      ]
    },
    {
      "cell_type": "markdown",
      "source": [
        "## Additional Tip: Use Markdown for Better Readability\n",
        "If you want to display the report in a structured format within the notebook, use IPython.display.Markdown:"
      ],
      "metadata": {
        "id": "Vqoo3RSmU2yL"
      }
    },
    {
      "cell_type": "code",
      "source": [
        "from IPython.display import Markdown\n",
        "\n",
        "Markdown(report)\n"
      ],
      "metadata": {
        "colab": {
          "base_uri": "https://localhost:8080/",
          "height": 1000
        },
        "id": "_AlpX27LU5tJ",
        "outputId": "8860ea85-52a3-4f6f-bce8-fed0e1c98e84"
      },
      "execution_count": 13,
      "outputs": [
        {
          "output_type": "execute_result",
          "data": {
            "text/plain": [
              "<IPython.core.display.Markdown object>"
            ],
            "text/markdown": "### System Configuration Report\n\n**CPU Information:**\nArchitecture:                         x86_64\nCPU op-mode(s):                       32-bit, 64-bit\nAddress sizes:                        46 bits physical, 48 bits virtual\nByte Order:                           Little Endian\nCPU(s):                               2\nOn-line CPU(s) list:                  0,1\nVendor ID:                            GenuineIntel\nModel name:                           Intel(R) Xeon(R) CPU @ 2.20GHz\nCPU family:                           6\nModel:                                79\nThread(s) per core:                   2\nCore(s) per socket:                   1\nSocket(s):                            1\nStepping:                             0\nBogoMIPS:                             4400.29\nFlags:                                fpu vme de pse tsc msr pae mce cx8 apic sep mtrr pge mca cmov pat pse36 clflush mmx fxsr sse sse2 ss ht syscall nx pdpe1gb rdtscp lm constant_tsc rep_good nopl xtopology nonstop_tsc cpuid tsc_known_freq pni pclmulqdq ssse3 fma cx16 pcid sse4_1 sse4_2 x2apic movbe popcnt aes xsave avx f16c rdrand hypervisor lahf_lm abm 3dnowprefetch invpcid_single ssbd ibrs ibpb stibp fsgsbase tsc_adjust bmi1 hle avx2 smep bmi2 erms invpcid rtm rdseed adx smap xsaveopt arat md_clear arch_capabilities\nHypervisor vendor:                    KVM\nVirtualization type:                  full\nL1d cache:                            32 KiB (1 instance)\nL1i cache:                            32 KiB (1 instance)\nL2 cache:                             256 KiB (1 instance)\nL3 cache:                             55 MiB (1 instance)\nNUMA node(s):                         1\nNUMA node0 CPU(s):                    0,1\nVulnerability Gather data sampling:   Not affected\nVulnerability Itlb multihit:          Not affected\nVulnerability L1tf:                   Mitigation; PTE Inversion\nVulnerability Mds:                    Vulnerable; SMT Host state unknown\nVulnerability Meltdown:               Vulnerable\nVulnerability Mmio stale data:        Vulnerable\nVulnerability Reg file data sampling: Not affected\nVulnerability Retbleed:               Vulnerable\nVulnerability Spec rstack overflow:   Not affected\nVulnerability Spec store bypass:      Vulnerable\nVulnerability Spectre v1:             Vulnerable: __user pointer sanitization and usercopy barriers only; no swapgs barriers\nVulnerability Spectre v2:             Vulnerable; IBPB: disabled; STIBP: disabled; PBRSB-eIBRS: Not affected; BHI: Vulnerable (Syscall hardening enabled)\nVulnerability Srbds:                  Not affected\nVulnerability Tsx async abort:        Vulnerable\n\n**GPU Information:**\nNo GPU found\n**Memory Information:**\n               total        used        free      shared  buff/cache   available\nMem:            12Gi       805Mi       7.9Gi       1.0Mi       4.0Gi        11Gi\nSwap:             0B          0B          0B\n\n**Disk Space:**\nFilesystem      Size  Used Avail Use% Mounted on\noverlay         108G   38G   71G  35% /\ntmpfs            64M     0   64M   0% /dev\nshm             5.8G     0  5.8G   0% /dev/shm\n/dev/root       2.0G  1.2G  820M  59% /usr/sbin/docker-init\ntmpfs           6.4G  128K  6.4G   1% /var/colab\n/dev/sda1        77G   57G   20G  74% /etc/hosts\ntmpfs           6.4G     0  6.4G   0% /proc/acpi\ntmpfs           6.4G     0  6.4G   0% /proc/scsi\ntmpfs           6.4G     0  6.4G   0% /sys/firmware\n\n**Python Version:**\nPython 3.10.12\n\n**Installed Packages:**\nPackage                            Version\n---------------------------------- --------------------\nabsl-py                            1.4.0\naccelerate                         0.34.2\naiohappyeyeballs                   2.4.3\naiohttp                            3.10.10\naiosignal                          1.3.1\nalabaster                          0.7.16\nalbucore                           0.0.16\nalbumentations                     1.4.15\naltair                             4.2.2\nannotated-types                    0.7.0\nanyio                              3.7.1\nargon2-cffi                        23.1.0\nargon2-cffi-bindings               21.2.0\narray_record                       0.5.1\narviz                              0.19.0\nastropy                            6.1.4\nastropy-iers-data                  0.2024.10.21.0.33.21\nastunparse                         1.6.3\nasync-timeout                      4.0.3\natpublic                           4.1.0\nattrs                              24.2.0\naudioread                          3.0.1\nautograd                           1.7.0\nbabel                              2.16.0\nbackcall                           0.2.0\nbeautifulsoup4                     4.12.3\nbigframes                          1.22.0\nbigquery-magics                    0.4.0\nbleach                             6.1.0\nblinker                            1.4\nblis                               0.7.11\nblosc2                             2.0.0\nbokeh                              3.4.3\nBottleneck                         1.4.2\nbqplot                             0.12.43\nbranca                             0.8.0\nCacheControl                       0.14.0\ncachetools                         5.5.0\ncatalogue                          2.0.10\ncertifi                            2024.8.30\ncffi                               1.17.1\nchardet                            5.2.0\ncharset-normalizer                 3.4.0\nchex                               0.1.87\nclarabel                           0.9.0\nclick                              8.1.7\ncloudpathlib                       0.20.0\ncloudpickle                        3.1.0\ncmake                              3.30.5\ncmdstanpy                          1.2.4\ncolorcet                           3.1.0\ncolorlover                         0.3.0\ncolour                             0.1.5\ncommunity                          1.0.0b1\nconfection                         0.1.5\ncons                               0.4.6\ncontourpy                          1.3.0\ncryptography                       43.0.3\ncuda-python                        12.2.1\ncudf-cu12                          24.10.1\ncufflinks                          0.17.3\ncupy-cuda12x                       12.2.0\ncvxopt                             1.3.2\ncvxpy                              1.5.3\ncycler                             0.12.1\ncymem                              2.0.8\nCython                             3.0.11\ndask                               2024.8.2\ndatascience                        0.17.6\ndb-dtypes                          1.3.0\ndbus-python                        1.2.18\ndebugpy                            1.6.6\ndecorator                          4.4.2\ndefusedxml                         0.7.1\nDeprecated                         1.2.14\ndiffusers                          0.30.3\ndistro                             1.7.0\ndlib                               19.24.2\ndm-tree                            0.1.8\ndocker-pycreds                     0.4.0\ndocstring_parser                   0.16\ndocutils                           0.18.1\ndopamine_rl                        4.0.9\nduckdb                             1.1.2\nearthengine-api                    1.0.0\neasydict                           1.13\necos                               2.0.14\neditdistance                       0.8.1\neerepr                             0.0.4\neinops                             0.8.0\nen-core-web-sm                     3.7.1\nentrypoints                        0.4\net-xmlfile                         1.1.0\netils                              1.10.0\netuples                            0.3.9\neval_type_backport                 0.2.0\nexceptiongroup                     1.2.2\nfastai                             2.7.18\nfastcore                           1.7.19\nfastdownload                       0.0.7\nfastjsonschema                     2.20.0\nfastprogress                       1.0.3\nfastrlock                          0.8.2\nfilelock                           3.16.1\nfirebase-admin                     6.5.0\nFlask                              2.2.5\nflatbuffers                        24.3.25\nflax                               0.8.5\nfolium                             0.17.0\nfonttools                          4.54.1\nfrozendict                         2.4.6\nfrozenlist                         1.4.1\nfsspec                             2024.6.1\nfuture                             1.0.0\ngast                               0.6.0\ngcsfs                              2024.6.1\nGDAL                               3.6.4\ngdown                              5.2.0\ngeemap                             0.34.5\ngensim                             4.3.3\ngeocoder                           1.38.1\ngeographiclib                      2.0\ngeopandas                          1.0.1\ngeopy                              2.4.1\ngin-config                         0.5.0\ngitdb                              4.0.11\nGitPython                          3.1.43\nglob2                              0.7\ngoogle                             2.0.3\ngoogle-ai-generativelanguage       0.6.10\ngoogle-api-core                    2.19.2\ngoogle-api-python-client           2.137.0\ngoogle-auth                        2.27.0\ngoogle-auth-httplib2               0.2.0\ngoogle-auth-oauthlib               1.2.1\ngoogle-cloud-aiplatform            1.70.0\ngoogle-cloud-bigquery              3.25.0\ngoogle-cloud-bigquery-connection   1.15.5\ngoogle-cloud-bigquery-storage      2.27.0\ngoogle-cloud-bigtable              2.26.0\ngoogle-cloud-core                  2.4.1\ngoogle-cloud-datastore             2.19.0\ngoogle-cloud-firestore             2.16.1\ngoogle-cloud-functions             1.16.5\ngoogle-cloud-iam                   2.15.2\ngoogle-cloud-language              2.13.4\ngoogle-cloud-pubsub                2.25.0\ngoogle-cloud-resource-manager      1.12.5\ngoogle-cloud-storage               2.8.0\ngoogle-cloud-translate             3.15.5\ngoogle-colab                       1.0.0\ngoogle-crc32c                      1.6.0\ngoogle-generativeai                0.8.3\ngoogle-pasta                       0.2.0\ngoogle-resumable-media             2.7.2\ngoogleapis-common-protos           1.65.0\ngoogledrivedownloader              0.4\ngraphviz                           0.20.3\ngreenlet                           3.1.1\ngrpc-google-iam-v1                 0.13.1\ngrpcio                             1.64.1\ngrpcio-status                      1.48.2\ngspread                            6.0.2\ngspread-dataframe                  3.3.1\ngym                                0.25.2\ngym-notices                        0.0.8\nh5netcdf                           1.4.0\nh5py                               3.11.0\nholidays                           0.59\nholoviews                          1.19.1\nhtml5lib                           1.1\nhttpimport                         1.4.0\nhttplib2                           0.22.0\nhuggingface-hub                    0.24.7\nhumanize                           4.10.0\nhyperopt                           0.2.7\nibis-framework                     9.2.0\nidna                               3.10\nimageio                            2.35.1\nimageio-ffmpeg                     0.5.1\nimagesize                          1.4.1\nimbalanced-learn                   0.12.4\nimgaug                             0.4.0\nimmutabledict                      4.2.0\nimportlib_metadata                 8.5.0\nimportlib_resources                6.4.5\nimutils                            0.5.4\ninflect                            7.4.0\niniconfig                          2.0.0\nintel-cmplr-lib-ur                 2024.2.1\nintel-openmp                       2024.2.1\nipyevents                          2.0.2\nipyfilechooser                     0.6.0\nipykernel                          5.5.6\nipyleaflet                         0.19.2\nipyparallel                        8.8.0\nipython                            7.34.0\nipython-genutils                   0.2.0\nipython-sql                        0.5.0\nipytree                            0.2.2\nipywidgets                         7.7.1\nitsdangerous                       2.2.0\njax                                0.4.33\njax-cuda12-pjrt                    0.4.33\njax-cuda12-plugin                  0.4.33\njaxlib                             0.4.33\njeepney                            0.7.1\njellyfish                          1.1.0\njieba                              0.42.1\nJinja2                             3.1.4\njoblib                             1.4.2\njsonpickle                         3.3.0\njsonschema                         4.23.0\njsonschema-specifications          2024.10.1\njupyter-client                     6.1.12\njupyter-console                    6.1.0\njupyter_core                       5.7.2\njupyter-leaflet                    0.19.2\njupyter-server                     1.24.0\njupyterlab_pygments                0.3.0\njupyterlab_widgets                 3.0.13\nkaggle                             1.6.17\nkagglehub                          0.3.3\nkeras                              3.4.1\nkeyring                            23.5.0\nkiwisolver                         1.4.7\nlangcodes                          3.4.1\nlanguage_data                      1.2.0\nlaunchpadlib                       1.10.16\nlazr.restfulclient                 0.14.4\nlazr.uri                           1.0.6\nlazy_loader                        0.4\nlibclang                           18.1.1\nlibcudf-cu12                       24.10.1\nlibrosa                            0.10.2.post1\nlightgbm                           4.5.0\nlinkify-it-py                      2.0.3\nllvmlite                           0.43.0\nlocket                             1.0.0\nlogical-unification                0.4.6\nlxml                               4.9.4\nmarisa-trie                        1.2.1\nMarkdown                           3.7\nmarkdown-it-py                     3.0.0\nMarkupSafe                         3.0.2\nmatplotlib                         3.7.1\nmatplotlib-inline                  0.1.7\nmatplotlib-venn                    1.1.1\nmdit-py-plugins                    0.4.2\nmdurl                              0.1.2\nminiKanren                         1.0.3\nmissingno                          0.5.2\nmistune                            0.8.4\nmizani                             0.11.4\nmkl                                2024.2.2\nml-dtypes                          0.4.1\nmlxtend                            0.23.1\nmore-itertools                     10.5.0\nmoviepy                            1.0.3\nmpmath                             1.3.0\nmsgpack                            1.1.0\nmultidict                          6.1.0\nmultipledispatch                   1.0.0\nmultitasking                       0.0.11\nmurmurhash                         1.0.10\nmusic21                            9.1.0\nnamex                              0.0.8\nnatsort                            8.4.0\nnbclassic                          1.1.0\nnbclient                           0.10.0\nnbconvert                          6.5.4\nnbformat                           5.10.4\nnest-asyncio                       1.6.0\nnetworkx                           3.4.2\nnibabel                            5.2.1\nnltk                               3.8.1\nnotebook                           6.5.5\nnotebook_shim                      0.2.4\nnumba                              0.60.0\nnumexpr                            2.10.1\nnumpy                              1.26.4\nnvidia-cublas-cu12                 12.6.3.3\nnvidia-cuda-cupti-cu12             12.6.80\nnvidia-cuda-nvcc-cu12              12.6.77\nnvidia-cuda-runtime-cu12           12.6.77\nnvidia-cudnn-cu12                  9.5.0.50\nnvidia-cufft-cu12                  11.3.0.4\nnvidia-curand-cu12                 10.3.7.77\nnvidia-cusolver-cu12               11.7.1.2\nnvidia-cusparse-cu12               12.5.4.2\nnvidia-nccl-cu12                   2.23.4\nnvidia-nvjitlink-cu12              12.6.77\nnvtx                               0.2.10\nnx-cugraph-cu12                    24.10.0\noauth2client                       4.1.3\noauthlib                           3.2.2\nopencv-contrib-python              4.10.0.84\nopencv-python                      4.10.0.84\nopencv-python-headless             4.10.0.84\nopenpyxl                           3.1.5\nopentelemetry-api                  1.16.0\nopentelemetry-sdk                  1.16.0\nopentelemetry-semantic-conventions 0.37b0\nopt_einsum                         3.4.0\noptax                              0.2.3\noptree                             0.13.0\norbax-checkpoint                   0.6.4\nosqp                               0.6.7.post3\npackaging                          24.1\npandas                             2.2.2\npandas-datareader                  0.10.0\npandas-gbq                         0.23.2\npandas-stubs                       2.2.2.240909\npandocfilters                      1.5.1\npanel                              1.4.5\nparam                              2.1.1\nparso                              0.8.4\nparsy                              2.1\npartd                              1.4.2\npathlib                            1.0.1\npatsy                              0.5.6\npeewee                             3.17.7\npexpect                            4.9.0\npickleshare                        0.7.5\npillow                             10.4.0\npip                                24.1.2\nplatformdirs                       4.3.6\nplotly                             5.24.1\nplotnine                           0.13.6\npluggy                             1.5.0\npolars                             1.7.1\npooch                              1.8.2\nportpicker                         1.5.2\npreshed                            3.0.9\nprettytable                        3.11.0\nproglog                            0.1.10\nprogressbar2                       4.5.0\nprometheus_client                  0.21.0\npromise                            2.3\nprompt_toolkit                     3.0.48\npropcache                          0.2.0\nprophet                            1.1.6\nproto-plus                         1.24.0\nprotobuf                           3.20.3\npsutil                             5.9.5\npsycopg2                           2.9.10\nptyprocess                         0.7.0\npy-cpuinfo                         9.0.0\npy4j                               0.10.9.7\npyarrow                            16.1.0\npyarrow-hotfix                     0.6\npyasn1                             0.6.1\npyasn1_modules                     0.4.1\npycocotools                        2.0.8\npycparser                          2.22\npydantic                           2.9.2\npydantic_core                      2.23.4\npydata-google-auth                 1.8.2\npydot                              3.0.2\npydotplus                          2.0.2\nPyDrive                            1.3.1\nPyDrive2                           1.20.0\npyerfa                             2.0.1.4\npygame                             2.6.1\npygit2                             1.15.1\nPygments                           2.18.0\nPyGObject                          3.42.1\nPyJWT                              2.9.0\npylibcudf-cu12                     24.10.1\npylibcugraph-cu12                  24.10.0\npylibraft-cu12                     24.10.0\npymc                               5.16.2\npymystem3                          0.2.0\npynvjitlink-cu12                   0.3.0\npyogrio                            0.10.0\nPyOpenGL                           3.1.7\npyOpenSSL                          24.2.1\npyparsing                          3.2.0\npyperclip                          1.9.0\npyproj                             3.7.0\npyshp                              2.3.1\nPySocks                            1.7.1\npyspark                            3.5.3\npytensor                           2.25.5\npytest                             7.4.4\npython-apt                         0.0.0\npython-box                         7.2.0\npython-dateutil                    2.8.2\npython-louvain                     0.16\npython-slugify                     8.0.4\npython-utils                       3.9.0\npytz                               2024.2\npyviz_comms                        3.0.3\nPyYAML                             6.0.2\npyzmq                              24.0.1\nqdldl                              0.1.7.post4\nratelim                            0.1.6\nreferencing                        0.35.1\nregex                              2024.9.11\nrequests                           2.32.3\nrequests-oauthlib                  1.3.1\nrequirements-parser                0.9.0\nrich                               13.9.3\nrmm-cu12                           24.10.0\nrpds-py                            0.20.0\nrpy2                               3.4.2\nrsa                                4.9\nsafetensors                        0.4.5\nscikit-image                       0.24.0\nscikit-learn                       1.5.2\nscipy                              1.13.1\nscooby                             0.10.0\nscs                                3.2.7\nseaborn                            0.13.2\nSecretStorage                      3.3.1\nSend2Trash                         1.8.3\nsentencepiece                      0.2.0\nsentry-sdk                         2.17.0\nsetproctitle                       1.3.3\nsetuptools                         75.1.0\nshap                               0.46.0\nshapely                            2.0.6\nshellingham                        1.5.4\nsimple-parsing                     0.1.6\nsix                                1.16.0\nsklearn-pandas                     2.2.0\nslicer                             0.0.8\nsmart-open                         7.0.5\nsmmap                              5.0.1\nsniffio                            1.3.1\nsnowballstemmer                    2.2.0\nsoundfile                          0.12.1\nsoupsieve                          2.6\nsoxr                               0.5.0.post1\nspacy                              3.7.5\nspacy-legacy                       3.0.12\nspacy-loggers                      1.0.5\nSphinx                             5.0.2\nsphinxcontrib-applehelp            2.0.0\nsphinxcontrib-devhelp              2.0.0\nsphinxcontrib-htmlhelp             2.1.0\nsphinxcontrib-jsmath               1.0.1\nsphinxcontrib-qthelp               2.0.0\nsphinxcontrib-serializinghtml      2.0.0\nSQLAlchemy                         2.0.36\nsqlglot                            25.1.0\nsqlparse                           0.5.1\nsrsly                              2.4.8\nstanio                             0.5.1\nstatsmodels                        0.14.4\nStrEnum                            0.4.15\nsympy                              1.13.1\ntables                             3.8.0\ntabulate                           0.9.0\ntbb                                2021.13.1\ntenacity                           9.0.0\ntensorboard                        2.17.0\ntensorboard-data-server            0.7.2\ntensorflow                         2.17.0\ntensorflow-datasets                4.9.6\ntensorflow-hub                     0.16.1\ntensorflow-io-gcs-filesystem       0.37.1\ntensorflow-metadata                1.16.1\ntensorflow-probability             0.24.0\ntensorstore                        0.1.66\ntermcolor                          2.5.0\nterminado                          0.18.1\ntext-unidecode                     1.3\ntextblob                           0.17.1\ntf_keras                           2.17.0\ntf-slim                            1.1.0\nthinc                              8.2.5\nthreadpoolctl                      3.5.0\ntifffile                           2024.9.20\ntimm                               1.0.11\ntinycss2                           1.3.0\ntokenizers                         0.19.1\ntoml                               0.10.2\ntomli                              2.0.2\ntoolz                              0.12.1\ntorch                              2.5.0+cu121\ntorchaudio                         2.5.0+cu121\ntorchsummary                       1.5.1\ntorchvision                        0.20.0+cu121\ntornado                            6.3.3\ntqdm                               4.66.5\ntraitlets                          5.7.1\ntraittypes                         0.2.1\ntransformers                       4.44.2\ntweepy                             4.14.0\ntypeguard                          4.3.0\ntyper                              0.12.5\ntypes-pytz                         2024.2.0.20241003\ntypes-setuptools                   75.2.0.20241025\ntyping_extensions                  4.12.2\ntzdata                             2024.2\ntzlocal                            5.2\nuc-micro-py                        1.0.3\nuritemplate                        4.1.1\nurllib3                            2.2.3\nvega-datasets                      0.9.0\nwadllib                            1.3.6\nwandb                              0.18.5\nwasabi                             1.1.3\nwcwidth                            0.2.13\nweasel                             0.4.1\nwebcolors                          24.8.0\nwebencodings                       0.5.1\nwebsocket-client                   1.8.0\nWerkzeug                           3.0.4\nwheel                              0.44.0\nwidgetsnbextension                 3.6.10\nwordcloud                          1.9.3\nwrapt                              1.16.0\nxarray                             2024.9.0\nxarray-einstats                    0.8.0\nxgboost                            2.1.1\nxlrd                               2.0.1\nxyzservices                        2024.9.0\nyarl                               1.16.0\nyellowbrick                        1.5\nyfinance                           0.2.46\nzipp                               3.20.2\n\n"
          },
          "metadata": {},
          "execution_count": 13
        }
      ]
    }
  ]
}